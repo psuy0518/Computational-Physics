{
 "cells": [
  {
   "cell_type": "markdown",
   "metadata": {},
   "source": [
    "# 레벨테스트"
   ]
  },
  {
   "cell_type": "markdown",
   "metadata": {},
   "source": [
    "#### 1. 직각삼각형의 가로 길이가 a 세로 길이가 b일 때, a와 b를 입력하면 대각선의 길이를 출력하는 코드를 작성하시오."
   ]
  },
  {
   "cell_type": "code",
   "execution_count": 11,
   "metadata": {},
   "outputs": [
    {
     "name": "stdout",
     "output_type": "stream",
     "text": [
      "가로 길이 입력3\n",
      "세로 길이 입력4\n"
     ]
    },
    {
     "data": {
      "text/plain": [
       "5.0"
      ]
     },
     "execution_count": 11,
     "metadata": {},
     "output_type": "execute_result"
    }
   ],
   "source": [
    "def rt():\n",
    "    a = float(input('가로 길이 입력'))\n",
    "    b = float(input('세로 길이 입력'))\n",
    "    return (a**2 + b**2)**0.5\n",
    "\n",
    "rt()"
   ]
  },
  {
   "cell_type": "markdown",
   "metadata": {},
   "source": [
    "####  2. 두 숫자(양의 정수)를 입력받아 최소공배수를 구하는 코드를 작성하시오."
   ]
  },
  {
   "cell_type": "code",
   "execution_count": 27,
   "metadata": {},
   "outputs": [
    {
     "name": "stdout",
     "output_type": "stream",
     "text": [
      "양의 정수 입력: 2\n",
      "양의 정수 입력: 3\n",
      "6\n"
     ]
    }
   ],
   "source": [
    "def lcm():\n",
    "    n1 = int(input('양의 정수 입력: '))\n",
    "    n2 = int(input('양의 정수 입력: '))\n",
    "    i = n2\n",
    "    while(True):\n",
    "        if (i%n1==0) and (i%n2==0):\n",
    "            break\n",
    "        i+=1\n",
    "    print(i)\n",
    "        \n",
    "\n",
    "lcm()"
   ]
  },
  {
   "cell_type": "markdown",
   "metadata": {},
   "source": [
    "#### 3. 두 숫자(양의 정수)를 입력받아 최대공약수를 구하는 코드를 작성하시오."
   ]
  },
  {
   "cell_type": "code",
   "execution_count": 28,
   "metadata": {},
   "outputs": [
    {
     "name": "stdout",
     "output_type": "stream",
     "text": [
      "양의 정수 입력: 15\n",
      "양의 정수 입력: 12\n"
     ]
    },
    {
     "data": {
      "text/plain": [
       "3"
      ]
     },
     "execution_count": 28,
     "metadata": {},
     "output_type": "execute_result"
    }
   ],
   "source": [
    "def gcd():\n",
    "    n1 = int(input('양의 정수 입력: '))\n",
    "    n2 = int(input('양의 정수 입력: '))\n",
    "    if n1<n2:\n",
    "        for i in range(n2,1,-1):\n",
    "            if n1%i==0 and n2%i==0:\n",
    "                gcd = i\n",
    "                break\n",
    "    else:\n",
    "        for i in range(n1,1,-1):\n",
    "            if n1%i==0 and n2%i==0:\n",
    "                gcd = i\n",
    "                break\n",
    "    return gcd\n",
    "\n",
    "gcd()"
   ]
  },
  {
   "cell_type": "markdown",
   "metadata": {},
   "source": [
    "#### 4. 양의 정수를 입력받아 각 자릿수를 더해 출력하는 코드를 작성하시오."
   ]
  },
  {
   "cell_type": "code",
   "execution_count": 30,
   "metadata": {},
   "outputs": [
    {
     "name": "stdout",
     "output_type": "stream",
     "text": [
      "양의 정수 입력: 54321\n"
     ]
    },
    {
     "data": {
      "text/plain": [
       "15"
      ]
     },
     "execution_count": 30,
     "metadata": {},
     "output_type": "execute_result"
    }
   ],
   "source": [
    "def sum():\n",
    "    num = str(input('양의 정수 입력: '))\n",
    "    sum = 0\n",
    "    for i in range(len(num)):\n",
    "        sum += int(num[i])\n",
    "    return sum\n",
    "\n",
    "sum()"
   ]
  },
  {
   "cell_type": "markdown",
   "metadata": {},
   "source": [
    "####  5. 다음 list에서 홀수와 짝수의 개수를 구하는 코드를 작성하시오.\n",
    "#### [3,5,6,42,65,88,102,201,66]"
   ]
  },
  {
   "cell_type": "code",
   "execution_count": 33,
   "metadata": {},
   "outputs": [
    {
     "name": "stdout",
     "output_type": "stream",
     "text": [
      "짝수는 5개, 홀수는 4개\n"
     ]
    }
   ],
   "source": [
    "list5 = [3,5,6,42,65,88,102,201,66]\n",
    "even = 0\n",
    "odd = 0\n",
    "\n",
    "for i in range(len(list5)):\n",
    "    if list5[i]%2==0:\n",
    "        even += 1\n",
    "    else:\n",
    "        odd += 1\n",
    "print(f'짝수는 {even}개, 홀수는 {odd}개')"
   ]
  },
  {
   "cell_type": "markdown",
   "metadata": {},
   "source": [
    "#### 6. 도르래 문제 "
   ]
  },
  {
   "cell_type": "code",
   "execution_count": 82,
   "metadata": {},
   "outputs": [
    {
     "name": "stdout",
     "output_type": "stream",
     "text": [
      "m1 = 1, m2 = 3, m3 = 2일 때 a1: -6.42068965517241, a2: 23.0468965517241, a3: 29.6703448275862\n"
     ]
    }
   ],
   "source": [
    "# a) 각각 질량의 가속도\n",
    "\n",
    "m1 = 1 ; m2 = 3 ; m3 = 2 ; g = 9.8\n",
    "\n",
    "\"\"\"\n",
    "m2*g - T2 = m2*a\n",
    "T2 - m3*g = m3*a\n",
    "\n",
    "-> T2 = 2*m2*m3*g/(m2+m3)\n",
    "-> 두번째 도르래와 같은 효과를 내는 등가질량 4*m2*m3/(m2+m3)\n",
    "\n",
    "\"\"\"\n",
    "m4 = 4*m2*m3/(m2+m3)\n",
    "\n",
    "\"\"\"\n",
    "m1*g - T1 = m1*a1\n",
    "m4*g - T1 = -m4*a1\n",
    "-> (m1-m4)*g = (m1+m4)*a1\n",
    "\n",
    "m2*g - T1 - T2 = m2*a2\n",
    "m3*g - T1 - T2 = m3*a3\n",
    "\n",
    "\"\"\"\n",
    "from sympy import Symbol, solve\n",
    "\n",
    "a1 = Symbol('a1') ; a2 = Symbol('a2') ; a3 = Symbol('a3') ; a = Symbol('a')\n",
    "T1 = Symbol('T1') ; T2 = Symbol('T2')\n",
    "\n",
    "eq11 = (m1+m4)*a1 - (m1-m4)*g   # a1 구하기\n",
    "a1 = solve(eq11)[0]\n",
    "\n",
    "eq12 = T1 + a1 - g\n",
    "T1 = solve(eq12)[0]\n",
    "eq13_1 = T2 + m2*a - m2*g\n",
    "eq13_2 = T2 - m3*g - m3*a\n",
    "T2 = solve((eq13_1, eq13_2), dict=True)[0][T2]\n",
    "\n",
    "eq21 = m2*a2 - m2*g - T1 - T2   # a2 구하기\n",
    "a2 = solve(eq21)[0]\n",
    "\n",
    "eq31 = m3*a3 - m3*g - T1 - T2   # a3 구하기\n",
    "a3 = solve(eq31)[0]\n",
    "\n",
    "print(f'm1 = {m1}, m2 = {m2}, m3 = {m3}일 때 a1: {a1}, a2: {a2}, a3: {a3}')"
   ]
  },
  {
   "cell_type": "code",
   "execution_count": 83,
   "metadata": {},
   "outputs": [
    {
     "name": "stdout",
     "output_type": "stream",
     "text": [
      "m1 = 1, m2 = m3 = 2일 때 a1: -6.42068965517241, a2: 27.7103448275862, a3: 27.7103448275862\n"
     ]
    }
   ],
   "source": [
    "# b) m2 = m3일 때\n",
    "\n",
    "m2 = m3\n",
    "\n",
    "from sympy import Symbol, solve\n",
    "\n",
    "a1 = Symbol('a1') ; a2 = Symbol('a2') ; a3 = Symbol('a3') ; a = Symbol('a')\n",
    "T1 = Symbol('T1') ; T2 = Symbol('T2')\n",
    "\n",
    "eq11 = (m1+m4)*a1 - (m1-m4)*g   # a1 구하기\n",
    "a1 = solve(eq11)[0]\n",
    "\n",
    "eq12 = T1 + a1 - g\n",
    "T1 = solve(eq12)[0]\n",
    "eq13_1 = T2 + m2*a - m2*g\n",
    "eq13_2 = T2 - m3*g - m3*a\n",
    "T2 = solve((eq13_1, eq13_2), dict=True)[0][T2]\n",
    "\n",
    "eq21 = m2*a2 - m2*g - T1 - T2   # a2 구하기\n",
    "a2 = solve(eq21)[0]\n",
    "\n",
    "eq31 = m3*a3 - m3*g - T1 - T2   # a3 구하기\n",
    "a3 = solve(eq31)[0]\n",
    "\n",
    "print(f'm1 = {m1}, m2 = m3 = {m2}일 때 a1: {a1}, a2: {a2}, a3: {a3}')"
   ]
  },
  {
   "cell_type": "code",
   "execution_count": 84,
   "metadata": {},
   "outputs": [
    {
     "name": "stdout",
     "output_type": "stream",
     "text": [
      "m1 = m2 = m3 = 2일 때 a1: -4.03529411764706, a2: 26.5176470588235, a3: 26.5176470588235\n"
     ]
    }
   ],
   "source": [
    "# c) m1 = m2 = m3일 때\n",
    "\n",
    "m1 = m2 = m3\n",
    "\n",
    "from sympy import Symbol, solve\n",
    "\n",
    "a1 = Symbol('a1') ; a2 = Symbol('a2') ; a3 = Symbol('a3') ; a = Symbol('a')\n",
    "T1 = Symbol('T1') ; T2 = Symbol('T2')\n",
    "\n",
    "eq11 = (m1+m4)*a1 - (m1-m4)*g   # a1 구하기\n",
    "a1 = solve(eq11)[0]\n",
    "\n",
    "eq12 = T1 + a1 - g\n",
    "T1 = solve(eq12)[0]\n",
    "eq13_1 = T2 + m2*a - m2*g\n",
    "eq13_2 = T2 - m3*g - m3*a\n",
    "T2 = solve((eq13_1, eq13_2), dict=True)[0][T2]\n",
    "\n",
    "eq21 = m2*a2 - m2*g - T1 - T2   # a2 구하기\n",
    "a2 = solve(eq21)[0]\n",
    "\n",
    "eq31 = m3*a3 - m3*g - T1 - T2   # a3 구하기\n",
    "a3 = solve(eq31)[0]\n",
    "\n",
    "print(f'm1 = m2 = m3 = {m1}일 때 a1: {a1}, a2: {a2}, a3: {a3}')"
   ]
  },
  {
   "cell_type": "markdown",
   "metadata": {},
   "source": [
    "### 아래와 같은 입/출력을 가지는 프로그램을 작성하시오.\n",
    "#### 출력: 학번을 입력하세요.\n",
    "#### 입력: 2020550025\n",
    "#### 출력: 2020년도 신입생 25번입니다."
   ]
  },
  {
   "cell_type": "code",
   "execution_count": 1,
   "metadata": {},
   "outputs": [
    {
     "name": "stdout",
     "output_type": "stream",
     "text": [
      "학번을 입력하세요. 2020550025\n",
      "2020년도 신입생 25번입니다.\n"
     ]
    }
   ],
   "source": [
    "Input = input('학번을 입력하세요. ')\n",
    "print(f'{Input[:4]}년도 신입생 {Input[-2:]}번입니다.')"
   ]
  },
  {
   "cell_type": "code",
   "execution_count": 2,
   "metadata": {},
   "outputs": [
    {
     "name": "stdout",
     "output_type": "stream",
     "text": [
      "[1, 3, 5, 7, 9, 11, 13, 15, 17, 19, 21, 23, 25, 27, 29, 31, 33, 35, 37, 39, 41, 43, 45, 47, 49, 51, 53, 55, 57, 59, 61, 63, 65, 67, 69, 71, 73, 75, 77, 79, 81, 83, 85, 87, 89, 91, 93, 95, 97, 99]\n"
     ]
    }
   ],
   "source": [
    "A = []\n",
    "for i in range(1,101,1):\n",
    "    if i%2==1:\n",
    "        A.append(i)\n",
    "print(A)"
   ]
  },
  {
   "cell_type": "code",
   "execution_count": null,
   "metadata": {},
   "outputs": [],
   "source": []
  }
 ],
 "metadata": {
  "kernelspec": {
   "display_name": "Python 3",
   "language": "python",
   "name": "python3"
  },
  "language_info": {
   "codemirror_mode": {
    "name": "ipython",
    "version": 3
   },
   "file_extension": ".py",
   "mimetype": "text/x-python",
   "name": "python",
   "nbconvert_exporter": "python",
   "pygments_lexer": "ipython3",
   "version": "3.8.5"
  }
 },
 "nbformat": 4,
 "nbformat_minor": 4
}
